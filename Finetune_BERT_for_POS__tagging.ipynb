{
  "nbformat": 4,
  "nbformat_minor": 0,
  "metadata": {
    "colab": {
      "provenance": [],
      "authorship_tag": "ABX9TyOp+kdSKiZ1KA4htHDl3ml/",
      "include_colab_link": true
    },
    "kernelspec": {
      "name": "python3",
      "display_name": "Python 3"
    },
    "language_info": {
      "name": "python"
    }
  },
  "cells": [
    {
      "cell_type": "markdown",
      "metadata": {
        "id": "view-in-github",
        "colab_type": "text"
      },
      "source": [
        "<a href=\"https://colab.research.google.com/github/anthonyhughes/finetuning-bert-pos-tagging/blob/main/Finetune_BERT_for_POS__tagging.ipynb\" target=\"_parent\"><img src=\"https://colab.research.google.com/assets/colab-badge.svg\" alt=\"Open In Colab\"/></a>"
      ]
    },
    {
      "cell_type": "markdown",
      "source": [
        "All necessary libraries"
      ],
      "metadata": {
        "id": "Q75KmjcJM554"
      }
    },
    {
      "cell_type": "code",
      "source": [
        "from google.colab import drive\n",
        "drive.mount('/content/drive')"
      ],
      "metadata": {
        "colab": {
          "base_uri": "https://localhost:8080/"
        },
        "id": "Zi7AT8kr6JgN",
        "outputId": "d4dbf2df-9ac0-4701-e9da-f14ad346104f"
      },
      "execution_count": 1,
      "outputs": [
        {
          "output_type": "stream",
          "name": "stdout",
          "text": [
            "Mounted at /content/drive\n"
          ]
        }
      ]
    },
    {
      "cell_type": "code",
      "source": [
        "!pip install transformers"
      ],
      "metadata": {
        "colab": {
          "base_uri": "https://localhost:8080/"
        },
        "id": "OtJ1uiTWM3LI",
        "outputId": "9a2fa647-9f6f-49f0-e0ce-0bda777b7837"
      },
      "execution_count": 2,
      "outputs": [
        {
          "output_type": "stream",
          "name": "stdout",
          "text": [
            "Looking in indexes: https://pypi.org/simple, https://us-python.pkg.dev/colab-wheels/public/simple/\n",
            "Collecting transformers\n",
            "  Downloading transformers-4.25.1-py3-none-any.whl (5.8 MB)\n",
            "\u001b[2K     \u001b[90m━━━━━━━━━━━━━━━━━━━━━━━━━━━━━━━━━━━━━━━━\u001b[0m \u001b[32m5.8/5.8 MB\u001b[0m \u001b[31m80.0 MB/s\u001b[0m eta \u001b[36m0:00:00\u001b[0m\n",
            "\u001b[?25hCollecting tokenizers!=0.11.3,<0.14,>=0.11.1\n",
            "  Downloading tokenizers-0.13.2-cp38-cp38-manylinux_2_17_x86_64.manylinux2014_x86_64.whl (7.6 MB)\n",
            "\u001b[2K     \u001b[90m━━━━━━━━━━━━━━━━━━━━━━━━━━━━━━━━━━━━━━━━\u001b[0m \u001b[32m7.6/7.6 MB\u001b[0m \u001b[31m93.0 MB/s\u001b[0m eta \u001b[36m0:00:00\u001b[0m\n",
            "\u001b[?25hCollecting huggingface-hub<1.0,>=0.10.0\n",
            "  Downloading huggingface_hub-0.11.1-py3-none-any.whl (182 kB)\n",
            "\u001b[2K     \u001b[90m━━━━━━━━━━━━━━━━━━━━━━━━━━━━━━━━━━━━━━\u001b[0m \u001b[32m182.4/182.4 KB\u001b[0m \u001b[31m18.0 MB/s\u001b[0m eta \u001b[36m0:00:00\u001b[0m\n",
            "\u001b[?25hRequirement already satisfied: regex!=2019.12.17 in /usr/local/lib/python3.8/dist-packages (from transformers) (2022.6.2)\n",
            "Requirement already satisfied: requests in /usr/local/lib/python3.8/dist-packages (from transformers) (2.25.1)\n",
            "Requirement already satisfied: pyyaml>=5.1 in /usr/local/lib/python3.8/dist-packages (from transformers) (6.0)\n",
            "Requirement already satisfied: packaging>=20.0 in /usr/local/lib/python3.8/dist-packages (from transformers) (21.3)\n",
            "Requirement already satisfied: numpy>=1.17 in /usr/local/lib/python3.8/dist-packages (from transformers) (1.21.6)\n",
            "Requirement already satisfied: tqdm>=4.27 in /usr/local/lib/python3.8/dist-packages (from transformers) (4.64.1)\n",
            "Requirement already satisfied: filelock in /usr/local/lib/python3.8/dist-packages (from transformers) (3.9.0)\n",
            "Requirement already satisfied: typing-extensions>=3.7.4.3 in /usr/local/lib/python3.8/dist-packages (from huggingface-hub<1.0,>=0.10.0->transformers) (4.4.0)\n",
            "Requirement already satisfied: pyparsing!=3.0.5,>=2.0.2 in /usr/local/lib/python3.8/dist-packages (from packaging>=20.0->transformers) (3.0.9)\n",
            "Requirement already satisfied: idna<3,>=2.5 in /usr/local/lib/python3.8/dist-packages (from requests->transformers) (2.10)\n",
            "Requirement already satisfied: certifi>=2017.4.17 in /usr/local/lib/python3.8/dist-packages (from requests->transformers) (2022.12.7)\n",
            "Requirement already satisfied: urllib3<1.27,>=1.21.1 in /usr/local/lib/python3.8/dist-packages (from requests->transformers) (1.24.3)\n",
            "Requirement already satisfied: chardet<5,>=3.0.2 in /usr/local/lib/python3.8/dist-packages (from requests->transformers) (4.0.0)\n",
            "Installing collected packages: tokenizers, huggingface-hub, transformers\n",
            "Successfully installed huggingface-hub-0.11.1 tokenizers-0.13.2 transformers-4.25.1\n"
          ]
        }
      ]
    },
    {
      "cell_type": "code",
      "source": [
        "%cd /content/\n",
        "!rm -rf /content/finetuning-bert-pos-tagging\n",
        "!git clone https://github.com/anthonyhughes/finetuning-bert-pos-tagging.git"
      ],
      "metadata": {
        "colab": {
          "base_uri": "https://localhost:8080/"
        },
        "id": "XPzqhWoQ6HKN",
        "outputId": "1b217b44-77df-4272-c0a4-02183af568c3"
      },
      "execution_count": 3,
      "outputs": [
        {
          "output_type": "stream",
          "name": "stdout",
          "text": [
            "/content\n",
            "Cloning into 'finetuning-bert-pos-tagging'...\n",
            "remote: Enumerating objects: 56, done.\u001b[K\n",
            "remote: Counting objects: 100% (56/56), done.\u001b[K\n",
            "remote: Compressing objects: 100% (35/35), done.\u001b[K\n",
            "remote: Total 56 (delta 25), reused 45 (delta 16), pack-reused 0\u001b[K\n",
            "Unpacking objects: 100% (56/56), 9.77 KiB | 1000.00 KiB/s, done.\n"
          ]
        }
      ]
    },
    {
      "cell_type": "code",
      "source": [
        "!pip install -r /content/finetuning-bert-pos-tagging/requirements.txt"
      ],
      "metadata": {
        "colab": {
          "base_uri": "https://localhost:8080/"
        },
        "id": "T0WzgAXx7IcP",
        "outputId": "6830e384-6899-4811-d5c2-248988fb9a7d"
      },
      "execution_count": 4,
      "outputs": [
        {
          "output_type": "stream",
          "name": "stdout",
          "text": [
            "Looking in indexes: https://pypi.org/simple, https://us-python.pkg.dev/colab-wheels/public/simple/\n",
            "Requirement already satisfied: torch in /usr/local/lib/python3.8/dist-packages (from -r /content/finetuning-bert-pos-tagging/requirements.txt (line 1)) (1.13.1+cu116)\n",
            "Requirement already satisfied: nltk in /usr/local/lib/python3.8/dist-packages (from -r /content/finetuning-bert-pos-tagging/requirements.txt (line 2)) (3.7)\n",
            "Requirement already satisfied: transformers in /usr/local/lib/python3.8/dist-packages (from -r /content/finetuning-bert-pos-tagging/requirements.txt (line 3)) (4.25.1)\n",
            "Requirement already satisfied: tqdm in /usr/local/lib/python3.8/dist-packages (from -r /content/finetuning-bert-pos-tagging/requirements.txt (line 4)) (4.64.1)\n",
            "Requirement already satisfied: scikit-learn in /usr/local/lib/python3.8/dist-packages (from -r /content/finetuning-bert-pos-tagging/requirements.txt (line 5)) (1.0.2)\n",
            "Requirement already satisfied: numpy in /usr/local/lib/python3.8/dist-packages (from -r /content/finetuning-bert-pos-tagging/requirements.txt (line 6)) (1.21.6)\n",
            "Requirement already satisfied: typing-extensions in /usr/local/lib/python3.8/dist-packages (from torch->-r /content/finetuning-bert-pos-tagging/requirements.txt (line 1)) (4.4.0)\n",
            "Requirement already satisfied: joblib in /usr/local/lib/python3.8/dist-packages (from nltk->-r /content/finetuning-bert-pos-tagging/requirements.txt (line 2)) (1.2.0)\n",
            "Requirement already satisfied: click in /usr/local/lib/python3.8/dist-packages (from nltk->-r /content/finetuning-bert-pos-tagging/requirements.txt (line 2)) (7.1.2)\n",
            "Requirement already satisfied: regex>=2021.8.3 in /usr/local/lib/python3.8/dist-packages (from nltk->-r /content/finetuning-bert-pos-tagging/requirements.txt (line 2)) (2022.6.2)\n",
            "Requirement already satisfied: requests in /usr/local/lib/python3.8/dist-packages (from transformers->-r /content/finetuning-bert-pos-tagging/requirements.txt (line 3)) (2.25.1)\n",
            "Requirement already satisfied: filelock in /usr/local/lib/python3.8/dist-packages (from transformers->-r /content/finetuning-bert-pos-tagging/requirements.txt (line 3)) (3.9.0)\n",
            "Requirement already satisfied: pyyaml>=5.1 in /usr/local/lib/python3.8/dist-packages (from transformers->-r /content/finetuning-bert-pos-tagging/requirements.txt (line 3)) (6.0)\n",
            "Requirement already satisfied: tokenizers!=0.11.3,<0.14,>=0.11.1 in /usr/local/lib/python3.8/dist-packages (from transformers->-r /content/finetuning-bert-pos-tagging/requirements.txt (line 3)) (0.13.2)\n",
            "Requirement already satisfied: packaging>=20.0 in /usr/local/lib/python3.8/dist-packages (from transformers->-r /content/finetuning-bert-pos-tagging/requirements.txt (line 3)) (21.3)\n",
            "Requirement already satisfied: huggingface-hub<1.0,>=0.10.0 in /usr/local/lib/python3.8/dist-packages (from transformers->-r /content/finetuning-bert-pos-tagging/requirements.txt (line 3)) (0.11.1)\n",
            "Requirement already satisfied: threadpoolctl>=2.0.0 in /usr/local/lib/python3.8/dist-packages (from scikit-learn->-r /content/finetuning-bert-pos-tagging/requirements.txt (line 5)) (3.1.0)\n",
            "Requirement already satisfied: scipy>=1.1.0 in /usr/local/lib/python3.8/dist-packages (from scikit-learn->-r /content/finetuning-bert-pos-tagging/requirements.txt (line 5)) (1.7.3)\n",
            "Requirement already satisfied: pyparsing!=3.0.5,>=2.0.2 in /usr/local/lib/python3.8/dist-packages (from packaging>=20.0->transformers->-r /content/finetuning-bert-pos-tagging/requirements.txt (line 3)) (3.0.9)\n",
            "Requirement already satisfied: chardet<5,>=3.0.2 in /usr/local/lib/python3.8/dist-packages (from requests->transformers->-r /content/finetuning-bert-pos-tagging/requirements.txt (line 3)) (4.0.0)\n",
            "Requirement already satisfied: idna<3,>=2.5 in /usr/local/lib/python3.8/dist-packages (from requests->transformers->-r /content/finetuning-bert-pos-tagging/requirements.txt (line 3)) (2.10)\n",
            "Requirement already satisfied: certifi>=2017.4.17 in /usr/local/lib/python3.8/dist-packages (from requests->transformers->-r /content/finetuning-bert-pos-tagging/requirements.txt (line 3)) (2022.12.7)\n",
            "Requirement already satisfied: urllib3<1.27,>=1.21.1 in /usr/local/lib/python3.8/dist-packages (from requests->transformers->-r /content/finetuning-bert-pos-tagging/requirements.txt (line 3)) (1.24.3)\n"
          ]
        }
      ]
    },
    {
      "cell_type": "code",
      "source": [
        "%cd /content/finetuning-bert-pos-tagging\n",
        "!git pull\n",
        "!python ./run_train.py"
      ],
      "metadata": {
        "colab": {
          "base_uri": "https://localhost:8080/"
        },
        "id": "B76P6VmQ7KK3",
        "outputId": "13873387-d40c-4d93-df9f-0a91bc3f8640"
      },
      "execution_count": 6,
      "outputs": [
        {
          "output_type": "stream",
          "name": "stdout",
          "text": [
            "/content/finetuning-bert-pos-tagging\n",
            "remote: Enumerating objects: 14, done.\u001b[K\n",
            "remote: Counting objects: 100% (14/14), done.\u001b[K\n",
            "remote: Compressing objects: 100% (4/4), done.\u001b[K\n",
            "remote: Total 8 (delta 4), reused 8 (delta 4), pack-reused 0\u001b[K\n",
            "Unpacking objects: 100% (8/8), 1.69 KiB | 575.00 KiB/s, done.\n",
            "From https://github.com/anthonyhughes/finetuning-bert-pos-tagging\n",
            "   74ae38b..3f9a8be  main       -> origin/main\n",
            "Updating 74ae38b..3f9a8be\n",
            "Fast-forward\n",
            " pos_dataset.py    |  1 \u001b[31m-\u001b[m\n",
            " requirements.txt  |  1 \u001b[32m+\u001b[m\n",
            " run_train.py      | 49 \u001b[32m+++++++++++++++++++++++++++++++\u001b[m\u001b[31m------------------\u001b[m\n",
            " user_args.py      | 23 \u001b[32m+++++++++++++++++++++++\u001b[m\n",
            " utils/evaluate.py | 27 \u001b[32m+++++++++++++++\u001b[m\u001b[31m------------\u001b[m\n",
            " 5 files changed, 70 insertions(+), 31 deletions(-)\n",
            " create mode 100644 user_args.py\n",
            "[nltk_data] Downloading package treebank to /root/nltk_data...\n",
            "[nltk_data]   Package treebank is already up-to-date!\n",
            "Creating datasets w/ labels\n",
            "Length of tagged sentences 3914\n",
            "Training data split length  3522\n",
            "Test data split length  392\n",
            "Dataset init complete\n",
            "Dataset init complete\n",
            "Some weights of the model checkpoint at bert-base-cased were not used when initializing BertModel: ['cls.predictions.transform.dense.bias', 'cls.predictions.transform.dense.weight', 'cls.predictions.decoder.weight', 'cls.seq_relationship.bias', 'cls.predictions.bias', 'cls.predictions.transform.LayerNorm.weight', 'cls.predictions.transform.LayerNorm.bias', 'cls.seq_relationship.weight']\n",
            "- This IS expected if you are initializing BertModel from the checkpoint of a model trained on another task or with another architecture (e.g. initializing a BertForSequenceClassification model from a BertForPreTraining model).\n",
            "- This IS NOT expected if you are initializing BertModel from the checkpoint of a model that you expect to be exactly identical (initializing a BertForSequenceClassification model from a BertForSequenceClassification model).\n",
            "step=0, loss=<built-in method item of Tensor object at 0x7f2437a0a900>\n",
            "step=10, loss=<built-in method item of Tensor object at 0x7f23ca9f15e0>\n",
            "step=20, loss=<built-in method item of Tensor object at 0x7f23ca95f9a0>\n",
            "step=30, loss=<built-in method item of Tensor object at 0x7f23ca95f9a0>\n",
            "step=40, loss=<built-in method item of Tensor object at 0x7f23ca95fea0>\n",
            "step=50, loss=<built-in method item of Tensor object at 0x7f23ca8691d0>\n",
            "step=60, loss=<built-in method item of Tensor object at 0x7f23ca95fa90>\n",
            "step=70, loss=<built-in method item of Tensor object at 0x7f23ca864860>\n",
            "step=80, loss=<built-in method item of Tensor object at 0x7f23ca869ef0>\n",
            "step=90, loss=<built-in method item of Tensor object at 0x7f23ca8644f0>\n",
            "step=100, loss=<built-in method item of Tensor object at 0x7f23ca869130>\n",
            "step=110, loss=<built-in method item of Tensor object at 0x7f23ca869ef0>\n",
            "step=120, loss=<built-in method item of Tensor object at 0x7f23ca870900>\n",
            "step=130, loss=<built-in method item of Tensor object at 0x7f23ca9f15e0>\n",
            "step=140, loss=<built-in method item of Tensor object at 0x7f23ca870040>\n",
            "step=150, loss=<built-in method item of Tensor object at 0x7f23ca869ea0>\n",
            "step=160, loss=<built-in method item of Tensor object at 0x7f23ca870310>\n",
            "step=170, loss=<built-in method item of Tensor object at 0x7f23ca869590>\n",
            "step=180, loss=<built-in method item of Tensor object at 0x7f23ca86b540>\n",
            "step=190, loss=<built-in method item of Tensor object at 0x7f23ca9f14f0>\n",
            "step=200, loss=<built-in method item of Tensor object at 0x7f23ca86ba40>\n",
            "step=210, loss=<built-in method item of Tensor object at 0x7f24379fe1d0>\n",
            "step=220, loss=<built-in method item of Tensor object at 0x7f23ca85e8b0>\n",
            "step=230, loss=<built-in method item of Tensor object at 0x7f23ca864310>\n",
            "step=240, loss=<built-in method item of Tensor object at 0x7f23ca869270>\n",
            "step=250, loss=<built-in method item of Tensor object at 0x7f23ca9f1590>\n",
            "step=260, loss=<built-in method item of Tensor object at 0x7f24379fe1d0>\n",
            "step=270, loss=<built-in method item of Tensor object at 0x7f23c8e7c360>\n",
            "step=280, loss=<built-in method item of Tensor object at 0x7f23ca864310>\n",
            "step=290, loss=<built-in method item of Tensor object at 0x7f23ca95fc70>\n",
            "step=300, loss=<built-in method item of Tensor object at 0x7f23ca95fc70>\n",
            "step=310, loss=<built-in method item of Tensor object at 0x7f24379fe1d0>\n",
            "step=320, loss=<built-in method item of Tensor object at 0x7f23ca86e220>\n",
            "step=330, loss=<built-in method item of Tensor object at 0x7f23ca86e7c0>\n",
            "step=340, loss=<built-in method item of Tensor object at 0x7f23ca86bc70>\n",
            "step=350, loss=<built-in method item of Tensor object at 0x7f23ca870cc0>\n",
            "step=360, loss=<built-in method item of Tensor object at 0x7f23ca9f1590>\n",
            "step=370, loss=<built-in method item of Tensor object at 0x7f23c8e793b0>\n",
            "step=380, loss=<built-in method item of Tensor object at 0x7f23ca870cc0>\n",
            "step=390, loss=<built-in method item of Tensor object at 0x7f23c8e795e0>\n",
            "step=400, loss=<built-in method item of Tensor object at 0x7f23c8e7c590>\n",
            "step=410, loss=<built-in method item of Tensor object at 0x7f23ca9f15e0>\n",
            "step=420, loss=<built-in method item of Tensor object at 0x7f23ca869270>\n",
            "step=430, loss=<built-in method item of Tensor object at 0x7f23ca869270>\n",
            "step=440, loss=<built-in method item of Tensor object at 0x7f23ca86e9f0>\n",
            "Starting eval\n",
            "Generating all predictions from the test set\n",
            "/usr/local/lib/python3.8/dist-packages/sklearn/metrics/_classification.py:1318: UndefinedMetricWarning: Precision and F-score are ill-defined and being set to 0.0 in labels with no predicted samples. Use `zero_division` parameter to control this behavior.\n",
            "  _warn_prf(average, modifier, msg_start, len(result))\n",
            "/usr/local/lib/python3.8/dist-packages/sklearn/metrics/_classification.py:1318: UndefinedMetricWarning: Precision and F-score are ill-defined and being set to 0.0 in labels with no predicted samples. Use `zero_division` parameter to control this behavior.\n",
            "  _warn_prf(average, modifier, msg_start, len(result))\n",
            "/usr/local/lib/python3.8/dist-packages/sklearn/metrics/_classification.py:1318: UndefinedMetricWarning: Precision and F-score are ill-defined and being set to 0.0 in labels with no predicted samples. Use `zero_division` parameter to control this behavior.\n",
            "  _warn_prf(average, modifier, msg_start, len(result))\n",
            "              precision    recall  f1-score   support\n",
            "\n",
            "           $       1.00      1.00      1.00        87\n",
            "          ''       1.00      1.00      1.00        85\n",
            "           ,       1.00      1.00      1.00       520\n",
            "       -LRB-       1.00      0.90      0.95        20\n",
            "      -NONE-       1.00      1.00      1.00       668\n",
            "       -RRB-       0.91      1.00      0.95        20\n",
            "           .       1.00      1.00      1.00       391\n",
            "           :       1.00      1.00      1.00        54\n",
            "          CC       0.99      1.00      0.99       239\n",
            "          CD       0.98      1.00      0.99       406\n",
            "          DT       1.00      1.00      1.00       809\n",
            "          EX       1.00      1.00      1.00         4\n",
            "          FW       0.00      0.00      0.00         1\n",
            "          IN       0.99      0.98      0.99      1004\n",
            "          JJ       0.94      0.94      0.94       587\n",
            "         JJR       0.95      0.92      0.94        39\n",
            "         JJS       1.00      1.00      1.00        16\n",
            "          LS       0.00      0.00      0.00         1\n",
            "          MD       0.99      0.99      0.99        99\n",
            "          NN       0.98      0.98      0.98      1267\n",
            "         NNP       0.97      0.99      0.98       902\n",
            "        NNPS       0.73      0.42      0.54        26\n",
            "         NNS       1.00      0.98      0.99       640\n",
            "         PDT       0.50      0.20      0.29         5\n",
            "         POS       0.99      1.00      0.99        69\n",
            "         PRP       0.99      1.00      0.99       206\n",
            "        PRP$       1.00      1.00      1.00        73\n",
            "          RB       0.91      0.95      0.93       262\n",
            "         RBR       0.82      0.82      0.82        17\n",
            "         RBS       1.00      1.00      1.00         4\n",
            "          RP       0.76      0.83      0.79        23\n",
            "          TO       1.00      1.00      1.00       234\n",
            "          VB       1.00      0.95      0.98       278\n",
            "         VBD       0.94      0.98      0.96       330\n",
            "         VBG       0.98      0.89      0.93       150\n",
            "         VBN       0.94      0.90      0.92       209\n",
            "         VBP       0.92      1.00      0.96       142\n",
            "         VBZ       0.98      0.99      0.99       195\n",
            "         WDT       1.00      0.98      0.99        50\n",
            "          WP       1.00      1.00      1.00        23\n",
            "         WP$       1.00      1.00      1.00         1\n",
            "         WRB       1.00      1.00      1.00        29\n",
            "          ``       1.00      1.00      1.00        85\n",
            "\n",
            "    accuracy                           0.98     10270\n",
            "   macro avg       0.91      0.90      0.90     10270\n",
            "weighted avg       0.98      0.98      0.98     10270\n",
            "\n"
          ]
        }
      ]
    },
    {
      "cell_type": "code",
      "source": [],
      "metadata": {
        "id": "oue2uDtQ_iSE"
      },
      "execution_count": null,
      "outputs": []
    }
  ]
}